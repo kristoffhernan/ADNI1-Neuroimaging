{
 "cells": [
  {
   "cell_type": "code",
   "execution_count": 1,
   "id": "006a89ec-29d6-4407-8b91-c0ced61e3e78",
   "metadata": {
    "tags": []
   },
   "outputs": [],
   "source": [
    "import pandas as pd\n",
    "import os\n",
    "import numpy as np\n",
    "import ut\n",
    "import gc\n",
    "from sklearn.linear_model import LogisticRegression\n",
    "from sklearn.model_selection import GridSearchCV\n"
   ]
  },
  {
   "cell_type": "code",
   "execution_count": 2,
   "id": "5590e8ec-46de-48f6-977d-aacaae48dc52",
   "metadata": {
    "tags": []
   },
   "outputs": [],
   "source": [
    "def get_metadata(data_path):\n",
    "    # Clean metadata dataframe\n",
    "    md = pd.read_csv(os.path.join(data_path, 'ADNI1_Complete_2Yr_3T_4_18_2023.csv'))\n",
    "\n",
    "    md = md.rename(columns={'Image Data ID': 'Img_ID'})\n",
    "\n",
    "    md = md.drop(columns=['Modality', 'Description', 'Type', 'Format', 'Downloaded', 'Acq Date'])\n",
    "\n",
    "    md['Group'] = md['Group'].map({'CN':0, 'MCI':1, 'AD':2})\n",
    "    md['Sex'] = md['Sex'].map({'F':0, 'M':1})\n",
    "    md = md.rename(columns = {'Visit':'VISCODE'})\n",
    "\n",
    "    return md"
   ]
  },
  {
   "cell_type": "code",
   "execution_count": 3,
   "id": "562661ac-68ef-4e22-811a-799819ef7722",
   "metadata": {
    "tags": []
   },
   "outputs": [],
   "source": [
    "def clean_data(md):\n",
    "    cl = pd.read_csv(\"/scratch/users/neuroimage/conda/data/clinical/ADNIMERGE.csv\", low_memory=False, na_values=[-4])\n",
    "    cl = cl[cl.COLPROT=='ADNI1']\n",
    "\n",
    "    # could add EXAMDATE for time series\n",
    "    filter = ['PTID', 'PTEDUCAT', 'PTETHCAT', 'PTRACCAT', 'PTMARRY', 'MMSE', 'AGE', 'VISCODE']\n",
    "    cl = cl[filter]\n",
    "    cl = cl.rename(columns={'PTID':'Subject', 'PTEDUCAT':'Educat', 'PTRACCAT':'Race', 'PTETHCAT':'Ethn', 'PTMARRY':'Marry'})\n",
    "    \n",
    "    comb = md.merge(cl, how='left', on=['Subject', 'VISCODE'])\n",
    "    comb['MMSE'] = comb['MMSE'].astype(np.int32)\n",
    "    comb = comb.drop(columns=['VISCODE'])\n",
    "\n",
    "    # one-hot encoding\n",
    "    one_hot = pd.get_dummies(comb, columns=['Ethn', 'Race', 'Marry'])    \n",
    "    \n",
    "    return one_hot"
   ]
  },
  {
   "cell_type": "code",
   "execution_count": 4,
   "id": "8d3bb7a8-9c07-40c4-bb96-ef4a7014ef61",
   "metadata": {
    "tags": []
   },
   "outputs": [],
   "source": [
    "def full_pipeline(X_matrix):\n",
    "    \n",
    "    df = ut.matrix_to_df(X_matrix)\n",
    " \n",
    "    X, y = df.pipe(ut.clean_data, md=clean)\n",
    "    \n",
    "    X_train_pca, y_train, X_test_pca, y_test = ut.perform_pca(X,y)\n",
    "    \n",
    "    return X_train_pca, y_train, X_test_pca, y_test"
   ]
  },
  {
   "cell_type": "code",
   "execution_count": 5,
   "id": "cde08488-c3d3-444e-bfd3-eb26ec066021",
   "metadata": {
    "tags": []
   },
   "outputs": [],
   "source": [
    "data_path = '/scratch/users/neuroimage/conda/data'\n",
    "img_path = os.path.join(data_path, 'preprocessed/imgsss')"
   ]
  },
  {
   "cell_type": "code",
   "execution_count": 7,
   "id": "babfdfe5-1cc6-494e-916e-f709f61eddc0",
   "metadata": {},
   "outputs": [],
   "source": [
    "smt_files_gm, smt_files_wm = ut.get_ordered_files(img_path, \"smt\")\n",
    "md = get_metadata(data_path)\n",
    "clean = clean_data(md)\n",
    "\n",
    "X_wm, X_gm = ut.imgs_to_matrix(img_path, smt_files_gm, smt_files_wm, combine=False)\n",
    "\n",
    "X_comb = ut.imgs_to_matrix(img_path, smt_files_gm, smt_files_wm, combine=True)"
   ]
  },
  {
   "cell_type": "code",
   "execution_count": 8,
   "id": "3d0bf85b-faa8-45ae-95f3-c3fab3c95dba",
   "metadata": {
    "tags": []
   },
   "outputs": [
    {
     "name": "stdout",
     "output_type": "stream",
     "text": [
      "n components:3\n"
     ]
    }
   ],
   "source": [
    "X_train_wm, y_train_wm, X_test_wm, y_test_wm = full_pipeline(X_wm)\n",
    "gc.collect()\n",
    "X_train_gm, y_train_gm, X_test_gm, y_test_gm = full_pipeline(X_gm)\n",
    "gc.collect()\n",
    "X_train_cb, y_train_cb, X_test_cb, y_test_cb = full_pipeline(X_comb)\n",
    "gc.collect()"
   ]
  },
  {
   "cell_type": "code",
   "execution_count": null,
   "id": "952ecc5b-971c-431b-b73e-165023e81454",
   "metadata": {},
   "outputs": [],
   "source": [
    "base_pca_dir = os.path.join(data_path, 'full_pca_data')\n",
    "os.makedirs(base_pca_dir, exist_ok=True)  \n",
    "\n",
    "arrs = {'X_train_wm': X_train_wm, 'y_train_wm': y_train_wm,\n",
    "       'X_test_wm': X_test_wm, 'y_test_wm': y_test_wm,\n",
    "       'X_train_gm': X_train_gm, 'y_train_gm': y_train_gm,\n",
    "       'X_test_gm': X_test_gm, 'y_test_gm': y_test_gm,\n",
    "       'X_train_cb': X_train_cb, 'y_train_cb': y_train_cb,\n",
    "       'X_test_cb': X_test_cb, 'y_test_cb': y_test_cb,\n",
    "      }\n",
    "\n",
    "# loop through the dictionary and save each dataframe to CSV file\n",
    "for name, arr in arrs.items():\n",
    "    np.savetxt(os.path.join(base_pca_dir,f'{name}.csv'), arr, delimiter=',')"
   ]
  },
  {
   "cell_type": "code",
   "execution_count": null,
   "id": "b538fbff-7f76-47a1-8da1-74775aadddf4",
   "metadata": {},
   "outputs": [],
   "source": [
    "logreg_wm_acc = ut.perform_logreg(X_train_wm, y_train_wm, X_test_wm, y_test_wm)\n",
    "logreg_gm_acc = ut.perform_logreg(X_train_gm, y_train_gm, X_test_gm, y_test_gm)\n",
    "logreg_cb_acc = ut.perform_logreg(X_train_cb, y_train_cb, X_test_cb, y_test_cb)"
   ]
  },
  {
   "cell_type": "code",
   "execution_count": null,
   "id": "56e8abec-3518-4a24-9777-f3d5346ad9e3",
   "metadata": {},
   "outputs": [],
   "source": [
    "print(f\"Classification accuracy under WM data: {logreg_wm_acc}\")\n",
    "print(f\"Classification accuracy under GM data: {logreg_gm_acc}\")\n",
    "print(f\"Classification accuracy under Combined data: {logreg_cb_acc}\")"
   ]
  },
  {
   "cell_type": "code",
   "execution_count": null,
   "id": "c6165f9a-29b1-4edc-b5e6-7e742a4ec93f",
   "metadata": {},
   "outputs": [],
   "source": [
    "import matplotlib.pyplot as plt\n",
    "\n",
    "# Create a bar plot\n",
    "accuracies = [logreg_wm_acc, logreg_gm_acc, logreg_cb_acc]\n",
    "labels = ['White Matter', 'Gray Matter', 'White + Gray Matter']\n",
    "plt.bar(labels, accuracies)\n",
    "\n",
    "# Add labels and title\n",
    "plt.xlabel('Matter')\n",
    "plt.ylabel('Accuracy')\n",
    "# Show the plot\n",
    "plt.show()"
   ]
  }
 ],
 "metadata": {
  "kernelspec": {
   "display_name": "venv",
   "language": "python",
   "name": "venv"
  },
  "language_info": {
   "codemirror_mode": {
    "name": "ipython",
    "version": 3
   },
   "file_extension": ".py",
   "mimetype": "text/x-python",
   "name": "python",
   "nbconvert_exporter": "python",
   "pygments_lexer": "ipython3",
   "version": "3.11.0"
  }
 },
 "nbformat": 4,
 "nbformat_minor": 5
}
