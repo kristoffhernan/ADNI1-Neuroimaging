{
 "cells": [
  {
   "cell_type": "code",
   "execution_count": 40,
   "id": "da10880f-aaf2-498c-aaca-dbffdba8c8f4",
   "metadata": {
    "tags": []
   },
   "outputs": [],
   "source": [
    "import pandas as pd\n",
    "import os\n",
    "import ut\n",
    "from sklearn.linear_model import LogisticRegression\n"
   ]
  },
  {
   "cell_type": "code",
   "execution_count": 22,
   "id": "6af30ceb-cff1-45e4-bcda-d15d0ec6bbe4",
   "metadata": {
    "tags": []
   },
   "outputs": [],
   "source": [
    "\n",
    "data_dir = \"/scratch/users/neuroimage/conda/data/full_pca_data\"\n",
    "file_paths = os.listdir(data_dir)\n",
    "\n",
    "# Create an empty dictionary to store the dataframes\n",
    "pcas = {}\n",
    "\n",
    "for file_path in file_paths:\n",
    "    # Use the file name as the dictionary key\n",
    "    name = file_path.split('.')[0]\n",
    "    \n",
    "    df = pd.read_csv(os.path.join(data_dir, file_path), header=None)\n",
    "    \n",
    "    pcas[name] = df.values.ravel() if name.lower().startswith('y') else df\n",
    "    \n",
    "    if name.lower().startswith('y'):\n",
    "        pcas[name] = df.values.ravel()\n",
    "    else:\n",
    "        pcas[name] = df"
   ]
  },
  {
   "cell_type": "code",
   "execution_count": 24,
   "id": "740f2e45-e97f-4b9b-ab51-42f9c78118d2",
   "metadata": {
    "tags": []
   },
   "outputs": [],
   "source": [
    "logreg_wm_acc = ut.perform_logreg(pcas['X_train_wm'], pcas['y_train_wm'], pcas['X_test_wm'], pcas['y_test_wm'])\n",
    "logreg_gm_acc = ut.perform_logreg(pcas['X_train_gm'], pcas['y_train_gm'], pcas['X_test_gm'], pcas['y_test_gm'])\n",
    "logreg_cb_acc = ut.perform_logreg(pcas['X_train_cb'], pcas['y_train_cb'], pcas['X_test_cb'], pcas['y_test_cb'])"
   ]
  },
  {
   "cell_type": "code",
   "execution_count": 25,
   "id": "e4e1337c-8416-45d8-9c48-515e5d111d2c",
   "metadata": {
    "tags": []
   },
   "outputs": [
    {
     "name": "stdout",
     "output_type": "stream",
     "text": [
      "Classification accuracy under WM data: 0.8620689655172413\n",
      "Classification accuracy under GM data: 0.7241379310344828\n",
      "Classification accuracy under Combined data: 0.7126436781609196\n"
     ]
    }
   ],
   "source": [
    "print(f\"Classification accuracy under WM data: {logreg_wm_acc}\")\n",
    "print(f\"Classification accuracy under GM data: {logreg_gm_acc}\")\n",
    "print(f\"Classification accuracy under Combined data: {logreg_cb_acc}\")"
   ]
  },
  {
   "cell_type": "code",
   "execution_count": 27,
   "id": "60d30fd0-2fcb-456f-b123-c3375470429f",
   "metadata": {
    "tags": []
   },
   "outputs": [
    {
     "data": {
      "image/png": "[encoded data removed]",
      "text/plain": [
       "<Figure size 640x480 with 1 Axes>"
      ]
     },
     "metadata": {},
     "output_type": "display_data"
    }
   ],
   "source": [
    "import matplotlib.pyplot as plt\n",
    "\n",
    "# Create a bar plot\n",
    "accuracies = [logreg_wm_acc, logreg_gm_acc, logreg_cb_acc]\n",
    "labels = ['White Matter', 'Gray Matter', 'White + Gray Matter']\n",
    "plt.bar(labels, accuracies)\n",
    "\n",
    "# Add labels and title\n",
    "plt.xlabel('Matter')\n",
    "plt.ylabel('Accuracy')\n",
    "# Show the plot\n",
    "plt.show()"
   ]
  }
 ],
 "metadata": {
  "kernelspec": {
   "display_name": "venv",
   "language": "python",
   "name": "venv"
  },
  "language_info": {
   "codemirror_mode": {
    "name": "ipython",
    "version": 3
   },
   "file_extension": ".py",
   "mimetype": "text/x-python",
   "name": "python",
   "nbconvert_exporter": "python",
   "pygments_lexer": "ipython3",
   "version": "3.11.0"
  }
 },
 "nbformat": 4,
 "nbformat_minor": 5
}
