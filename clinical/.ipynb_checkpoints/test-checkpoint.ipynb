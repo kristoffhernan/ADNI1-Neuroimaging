{
 "cells": [
  {
   "cell_type": "code",
   "execution_count": 15,
   "id": "80c1f4f6-f13b-4afe-b28a-aa69f374deeb",
   "metadata": {
    "tags": []
   },
   "outputs": [
    {
     "name": "stdout",
     "output_type": "stream",
     "text": [
      "[[[0. 0. 0. 0.]\n",
      "  [0. 0. 1. 0.]\n",
      "  [0. 0. 0. 0.]]\n",
      "\n",
      " [[0. 0. 0. 0.]\n",
      "  [0. 0. 0. 0.]\n",
      "  [0. 0. 0. 1.]]]\n"
     ]
    }
   ],
   "source": [
    "import numpy as np\n",
    "\n",
    "# Create a 3D array of shape (2, 3, 4) filled with zeros\n",
    "arr = np.zeros((2, 3, 4))\n",
    "\n",
    "# Set some elements to 1\n",
    "arr[0, 1, 2] = 1\n",
    "arr[1, 2, 3] = 1\n",
    "\n",
    "# Print the array\n",
    "print(arr)\n"
   ]
  },
  {
   "cell_type": "code",
   "execution_count": 16,
   "id": "cc421c1e-c7f1-453c-8d20-91eb30f93dad",
   "metadata": {
    "tags": []
   },
   "outputs": [],
   "source": [
    "voxel_size = 1.5  # in mm\n",
    "brain_vol = np.count_nonzero(arr) * (voxel_size ** 3)"
   ]
  },
  {
   "cell_type": "code",
   "execution_count": 17,
   "id": "8ebdec42-46bd-4e24-859d-6b6a65a61672",
   "metadata": {
    "tags": []
   },
   "outputs": [],
   "source": [
    "vector = arr.ravel()\n",
    "imgs = []"
   ]
  },
  {
   "cell_type": "code",
   "execution_count": 30,
   "id": "6a9cef4e-0586-4c5c-b8c7-6af409326374",
   "metadata": {
    "tags": []
   },
   "outputs": [],
   "source": [
    "# turn to matrix, then to 1D array\n",
    "img_vec = np.append(vector, brain_vol)\n",
    "img_vec = np.append(121323123, img_vec)\n",
    "imgs.append(img_vec)\n",
    "\n",
    "# stack the vectors into a 2D array\n",
    "X = np.vstack(imgs)\n"
   ]
  },
  {
   "cell_type": "code",
   "execution_count": 31,
   "id": "4bcfd13d-88dc-4dd1-91f8-4a36e7c43b7d",
   "metadata": {
    "tags": []
   },
   "outputs": [
    {
     "data": {
      "text/plain": [
       "array([1.21323123e+08, 0.00000000e+00, 0.00000000e+00, 0.00000000e+00,\n",
       "       0.00000000e+00, 0.00000000e+00, 0.00000000e+00, 1.00000000e+00,\n",
       "       0.00000000e+00, 0.00000000e+00, 0.00000000e+00, 0.00000000e+00,\n",
       "       0.00000000e+00, 0.00000000e+00, 0.00000000e+00, 0.00000000e+00,\n",
       "       0.00000000e+00, 0.00000000e+00, 0.00000000e+00, 0.00000000e+00,\n",
       "       0.00000000e+00, 0.00000000e+00, 0.00000000e+00, 0.00000000e+00,\n",
       "       1.00000000e+00, 6.75000000e+00])"
      ]
     },
     "execution_count": 31,
     "metadata": {},
     "output_type": "execute_result"
    }
   ],
   "source": [
    "img_vec"
   ]
  },
  {
   "cell_type": "code",
   "execution_count": 25,
   "id": "98badb09-3c46-43f9-a38d-c7c8c344412d",
   "metadata": {
    "tags": []
   },
   "outputs": [
    {
     "data": {
      "text/plain": [
       "24"
      ]
     },
     "execution_count": 25,
     "metadata": {},
     "output_type": "execute_result"
    }
   ],
   "source": [
    "len(vector)"
   ]
  },
  {
   "cell_type": "code",
   "execution_count": 26,
   "id": "86204f7f-6bef-48b0-ba73-7b1d074684b6",
   "metadata": {
    "tags": []
   },
   "outputs": [
    {
     "data": {
      "text/plain": [
       "26"
      ]
     },
     "execution_count": 26,
     "metadata": {},
     "output_type": "execute_result"
    }
   ],
   "source": [
    "len(img_vec)"
   ]
  },
  {
   "cell_type": "code",
   "execution_count": 27,
   "id": "76d350ec-cc1f-4f4c-8ebc-c3af20570c95",
   "metadata": {
    "tags": []
   },
   "outputs": [
    {
     "data": {
      "text/plain": [
       "array([[1.21323123e+08, 0.00000000e+00, 0.00000000e+00, 0.00000000e+00,\n",
       "        0.00000000e+00, 0.00000000e+00, 0.00000000e+00, 1.00000000e+00,\n",
       "        0.00000000e+00, 0.00000000e+00, 0.00000000e+00, 0.00000000e+00,\n",
       "        0.00000000e+00, 0.00000000e+00, 0.00000000e+00, 0.00000000e+00,\n",
       "        0.00000000e+00, 0.00000000e+00, 0.00000000e+00, 0.00000000e+00,\n",
       "        0.00000000e+00, 0.00000000e+00, 0.00000000e+00, 0.00000000e+00,\n",
       "        1.00000000e+00, 6.75000000e+00]])"
      ]
     },
     "execution_count": 27,
     "metadata": {},
     "output_type": "execute_result"
    }
   ],
   "source": [
    "X"
   ]
  },
  {
   "cell_type": "code",
   "execution_count": null,
   "id": "198a3fe0-5b4a-437a-b0f1-171bb99250a5",
   "metadata": {},
   "outputs": [],
   "source": [
    "x"
   ]
  }
 ],
 "metadata": {
  "kernelspec": {
   "display_name": "Python 3 (ipykernel)",
   "language": "python",
   "name": "python3"
  },
  "language_info": {
   "codemirror_mode": {
    "name": "ipython",
    "version": 3
   },
   "file_extension": ".py",
   "mimetype": "text/x-python",
   "name": "python",
   "nbconvert_exporter": "python",
   "pygments_lexer": "ipython3",
   "version": "3.11.0"
  }
 },
 "nbformat": 4,
 "nbformat_minor": 5
}
